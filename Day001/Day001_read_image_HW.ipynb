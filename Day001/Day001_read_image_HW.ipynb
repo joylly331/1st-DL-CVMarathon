{
 "cells": [
  {
   "cell_type": "markdown",
   "metadata": {},
   "source": [
    "# 作業\n",
    "\n",
    "思考一下我們前面有提到圖片是矩陣，但維度可能會不一樣\n",
    "例如灰階圖只有兩個維度，RGB 彩圖則有 3 個維度\n",
    "\n",
    "假如今天我們把 RGB 3 個維度拆開來看會有甚麼不同的效果呢？"
   ]
  },
  {
   "cell_type": "code",
   "execution_count": 2,
   "metadata": {},
   "outputs": [
    {
     "name": "stdout",
     "output_type": "stream",
     "text": [
      "Collecting opencv-python\n",
      "  Using cached https://files.pythonhosted.org/packages/bf/d8/2422f90a596fc90d3027415121221f7cfb2513af8fd2a66203864941fabf/opencv_python-4.1.2.30-cp37-cp37m-macosx_10_9_x86_64.whl\n",
      "Requirement already satisfied: numpy>=1.14.5 in /opt/anaconda3/lib/python3.7/site-packages (from opencv-python) (1.17.2)\n",
      "Installing collected packages: opencv-python\n",
      "Successfully installed opencv-python-4.1.2.30\n",
      "Note: you may need to restart the kernel to use updated packages.\n"
     ]
    }
   ],
   "source": [
    "pip install --user opencv-python"
   ]
  },
  {
   "cell_type": "code",
   "execution_count": 1,
   "metadata": {},
   "outputs": [],
   "source": [
    "import cv2"
   ]
  },
  {
   "cell_type": "code",
   "execution_count": 2,
   "metadata": {},
   "outputs": [],
   "source": [
    "img_path = './Part01/lena.png'\n",
    "img1 = cv2.imread(img_path, cv2.IMREAD_COLOR)"
   ]
  },
  {
   "cell_type": "code",
   "execution_count": null,
   "metadata": {},
   "outputs": [],
   "source": [
    "#彩色 RGB 格式\n",
    "cv2.imshow('rgb',img1)\n",
    "cv2.waitKey(0)\n",
    "cv2.destroyAllowsWindow()\n"
   ]
  },
  {
   "cell_type": "code",
   "execution_count": null,
   "metadata": {},
   "outputs": [],
   "source": [
    "#灰階 Grayscale 格式\n",
    "img2 = cv2.imread(img_path, cv2.IMREAD_GRAYSCALE)\n",
    "cv2.imshow('gray',img2)\n",
    "cv2.waitKey(0)\n",
    "cv2.destroyAllowsWindow()"
   ]
  },
  {
   "cell_type": "code",
   "execution_count": 3,
   "metadata": {},
   "outputs": [
    {
     "name": "stdout",
     "output_type": "stream",
     "text": [
      "(512, 512, 3)\n"
     ]
    }
   ],
   "source": [
    "print(img1.shape)"
   ]
  },
  {
   "cell_type": "code",
   "execution_count": null,
   "metadata": {},
   "outputs": [],
   "source": [
    "#彩色 RGB 格式 red\n",
    "img1_r = img1.copy()\n",
    "img1_r[:, :, 0] = 0\n",
    "img1_r[:, :, 1] = 0\n",
    "cv2.imshow('red',img1_r)\n",
    "cv2.waitKey(0)\n",
    "cv2.destroyAllowsWindow()"
   ]
  },
  {
   "cell_type": "code",
   "execution_count": null,
   "metadata": {},
   "outputs": [],
   "source": [
    "#彩色 RGB 格式 green\n",
    "img1_g = img1.copy()\n",
    "img1_g[:, :, 0] = 0\n",
    "img1_g[:, :, 2] = 0\n",
    "cv2.imshow('green',img1_g)\n",
    "cv2.waitKey(0)\n",
    "cv2.destroyAllowsWindow()"
   ]
  },
  {
   "cell_type": "code",
   "execution_count": null,
   "metadata": {},
   "outputs": [],
   "source": [
    "#彩色 RGB 格式 blue\n",
    "img1_b = img1.copy()\n",
    "img1_b[:, :, 1] = 0\n",
    "img1_b[:, :, 2] = 0\n",
    "cv2.imshow('blue',img1_b)\n",
    "cv2.waitKey(0)\n",
    "cv2.destroyAllowsWindow()"
   ]
  },
  {
   "cell_type": "code",
   "execution_count": null,
   "metadata": {},
   "outputs": [],
   "source": []
  }
 ],
 "metadata": {
  "kernelspec": {
   "display_name": "Python 3",
   "language": "python",
   "name": "python3"
  },
  "language_info": {
   "codemirror_mode": {
    "name": "ipython",
    "version": 3
   },
   "file_extension": ".py",
   "mimetype": "text/x-python",
   "name": "python",
   "nbconvert_exporter": "python",
   "pygments_lexer": "ipython3",
   "version": "3.7.4"
  }
 },
 "nbformat": 4,
 "nbformat_minor": 2
}
